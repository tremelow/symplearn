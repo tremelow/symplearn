{
 "cells": [
  {
   "cell_type": "code",
   "execution_count": null,
   "id": "5e8a50c1",
   "metadata": {},
   "outputs": [],
   "source": [
    "import os\n",
    "\n",
    "import numpy as np\n",
    "import matplotlib as mpl\n",
    "import matplotlib.pyplot as plt\n",
    "\n",
    "import torch\n",
    "\n",
    "from symplearn.datasets import VectorFieldDataset, SnapshotDataset\n",
    "from symplearn.numerics import QuasiExactSimulation, EulerDVISimulation, RK4Simulation\n",
    "\n",
    "from models import LotkaVolterra\n",
    "from utils import get_reduced_val_data, find_index_period, HandlerColormap\n",
    "\n",
    "from utils import init_env\n",
    "\n",
    "pb, models = init_env()"
   ]
  },
  {
   "cell_type": "code",
   "execution_count": null,
   "id": "616d5de8",
   "metadata": {},
   "outputs": [],
   "source": [
    "z_train = VectorFieldDataset(\"train\").z\n",
    "z_test = VectorFieldDataset(\"test\").z\n",
    "z_val = VectorFieldDataset(\"val\").z\n",
    "\n",
    "t0, z0, dt = get_reduced_val_data()\n",
    "x0, y0 = z0.tensor_split(2, -1)"
   ]
  },
  {
   "cell_type": "markdown",
   "id": "aa8c2699",
   "metadata": {},
   "source": [
    "## Numerical error on the validation set"
   ]
  },
  {
   "cell_type": "code",
   "execution_count": null,
   "id": "c06c5be6",
   "metadata": {},
   "outputs": [],
   "source": [
    "def compute_sols(model, scheme, z0=z_val, tf=10.0, dt0=dt, rate=1.5, num_steps=7, offset=1):\n",
    "    pred_dt = dt0 * rate ** (offset - np.arange(num_steps))\n",
    "    all_nt = np.array(np.ceil(tf / pred_dt), dtype=int)\n",
    "    all_dt = tf / all_nt\n",
    "\n",
    "    sols = []\n",
    "    for nt, dt in zip(all_nt, all_dt):\n",
    "        sim = scheme(model, dt)\n",
    "        _, sol = sim.simulate(z0, nt)\n",
    "        sols.append(sol.detach().cpu().numpy())\n",
    "\n",
    "    return sols, all_dt\n",
    "\n",
    "\n",
    "# Compute quasi-exact solutions\n",
    "sol_ref_ex, all_dt_ref_ex = compute_sols(pb, QuasiExactSimulation)"
   ]
  },
  {
   "cell_type": "code",
   "execution_count": null,
   "id": "13f1c6ba",
   "metadata": {},
   "outputs": [],
   "source": [
    "def err_traj(z, z_ex):\n",
    "    return np.max(np.sqrt(np.sum((z - z_ex) ** 2, axis=-1)), axis=-1)\n",
    "\n",
    "\n",
    "def compute_err(model, scheme, compare_with_ref=True, **kwargs):\n",
    "    sols, all_dt = compute_sols(model, scheme, **kwargs)\n",
    "    model_ex = pb if compare_with_ref else model\n",
    "    sols_ex, _ = compute_sols(model_ex, QuasiExactSimulation, **kwargs)\n",
    "    err = [err_traj(sol, sol_ex) for sol, sol_ex in zip(sols, sols_ex)]\n",
    "    return {\"err\": np.stack(err), \"dt\": all_dt}\n",
    "\n",
    "\n",
    "def model_err(dir, model, compare_with_ref=True, **kwargs):\n",
    "    fname = lambda name: os.path.join(\"simul\", \"err\", dir, f\"{name}.pt\")\n",
    "\n",
    "    sch_keys = [\"dvi\", \"rk4\"]\n",
    "    trace_keys = [\"err\", \"dt\"]\n",
    "    names = [f\"{k}_{t}\" for k in sch_keys for t in trace_keys]\n",
    "\n",
    "    if all(os.path.exists(fname(name)) for name in names):\n",
    "        res = {\"dvi\": {}, \"rk4\": {}}\n",
    "        for name in names:\n",
    "            key1, key2 = name.split(\"_\")\n",
    "            res[key1][key2] = torch.load(fname(name), weights_only=True).numpy()\n",
    "    else:\n",
    "        kwargs[\"compare_with_ref\"] = compare_with_ref\n",
    "        res = {\n",
    "            \"dvi\": compute_err(model, EulerDVISimulation, **kwargs),\n",
    "            \"rk4\": compute_err(model, RK4Simulation, **(kwargs | {\"offset\": 3})),\n",
    "        }\n",
    "        for key1 in res:\n",
    "            for key2 in res[key1]:\n",
    "                fname_res = fname(f\"{key1}_{key2}\")\n",
    "                torch.save(torch.from_numpy(res[key1][key2]), fname_res)\n",
    "    return res"
   ]
  },
  {
   "cell_type": "markdown",
   "id": "2e15984e",
   "metadata": {},
   "source": [
    "#### Exact solutions\n",
    "\n",
    "See `result_longtime.ipynb`"
   ]
  },
  {
   "cell_type": "markdown",
   "id": "3cbe1840",
   "metadata": {},
   "source": [
    "#### Convergence of the reference model"
   ]
  },
  {
   "cell_type": "code",
   "execution_count": null,
   "id": "0df8d73d",
   "metadata": {},
   "outputs": [],
   "source": [
    "err_ref = model_err(\"ref\", pb, compare_with_ref=False)"
   ]
  },
  {
   "cell_type": "code",
   "execution_count": null,
   "id": "252be571",
   "metadata": {},
   "outputs": [],
   "source": [
    "def plot_quantiles(ax, all_dt, err, alpha=0.25, quant=0.05, **kwargs):\n",
    "    err_q0 = np.quantile(err, quant, axis=-1)\n",
    "    err50 = np.quantile(err, 0.5, axis=-1)\n",
    "    err_q1 = np.quantile(err, 1.0 - quant, axis=-1)\n",
    "\n",
    "    p, = ax.loglog(all_dt, err50, zorder=2.01, **kwargs)\n",
    "\n",
    "    x_poly = np.concatenate([all_dt, all_dt[::-1]])\n",
    "    y_poly = np.concatenate([err_q1, err_q0[::-1]])\n",
    "    ax.fill(x_poly, y_poly, alpha=alpha, label=None, color=p.get_color())\n",
    "    return err50\n",
    "\n",
    "\n",
    "fig, ax = plt.subplots(1, 1, figsize=(6, 3))\n",
    "plot_quantiles(ax, err_ref[\"dvi\"][\"dt\"], err_ref[\"dvi\"][\"err\"], label=\"Euler-DVI\", color=\"C0\")\n",
    "plot_quantiles(ax, err_ref[\"rk4\"][\"dt\"], err_ref[\"rk4\"][\"err\"], label=\"RK4\", color=\"C1\")\n",
    "ax.legend()"
   ]
  },
  {
   "cell_type": "markdown",
   "id": "a25063e2",
   "metadata": {},
   "source": [
    "### Results of neural networks"
   ]
  },
  {
   "cell_type": "code",
   "execution_count": null,
   "id": "e9d8acef",
   "metadata": {},
   "outputs": [],
   "source": [
    "err_vf = model_err(\"vf\", models[\"vf_reg\"])"
   ]
  },
  {
   "cell_type": "code",
   "execution_count": null,
   "id": "3e94ebd0",
   "metadata": {},
   "outputs": [],
   "source": [
    "err_cmy = model_err(\"cmy\", models[\"vf_no_reg\"])"
   ]
  },
  {
   "cell_type": "code",
   "execution_count": null,
   "id": "38bd0a20",
   "metadata": {},
   "outputs": [],
   "source": [
    "err_sch = model_err(\"sch\", models[\"dvi\"])"
   ]
  },
  {
   "cell_type": "code",
   "execution_count": null,
   "id": "e64038cd",
   "metadata": {},
   "outputs": [],
   "source": [
    "fig, (ax_rk4, ax_dvi) = plt.subplots(1, 2, figsize=(7.1, 2.7), width_ratios=(1, 0.95))\n",
    "\n",
    "dvi_plt = dict(label=\"sch. learning\", color=\"grey\", marker=\"s\")\n",
    "cmy_plt = dict(label=\"VFL no reg.\", color=\"C3\", marker=\"D\", alpha=0.35)\n",
    "vf_plt = dict(label=\"VFL with reg.\", color=\"C0\", marker=\"o\", alpha=0.3)\n",
    "\n",
    "dt_min = min(dt.min() for dt in err_sch[\"dvi\"][\"dt\"])\n",
    "dt_max = max(dt.max() for dt in err_sch[\"dvi\"][\"dt\"])\n",
    "dt_dvi = np.array([dt_min, dt_max])\n",
    "ax_dvi.plot(dt_dvi, 1e1 * dt_dvi, \"--\", color=\"black\", label=\"order 1\")\n",
    "\n",
    "# plot_quantiles(ax_dvi, err_ref[\"dvi\"][\"dt\"], err_ref[\"dvi\"][\"err\"])\n",
    "plot_quantiles(ax_dvi, err_sch[\"dvi\"][\"dt\"], err_sch[\"dvi\"][\"err\"], **dvi_plt)\n",
    "plot_quantiles(ax_dvi, err_cmy[\"dvi\"][\"dt\"], err_cmy[\"dvi\"][\"err\"], **cmy_plt)\n",
    "plot_quantiles(ax_dvi, err_vf[\"dvi\"][\"dt\"], err_vf[\"dvi\"][\"err\"], **vf_plt)\n",
    "\n",
    "\n",
    "dt_min = min(dt.min() for dt in err_sch[\"rk4\"][\"dt\"])\n",
    "dt_max = max(dt.max() for dt in err_sch[\"rk4\"][\"dt\"])\n",
    "dt_rk4 = np.array([dt_min, dt_max])\n",
    "ax_rk4.plot(dt_rk4, 1e3 * dt_rk4**4, \"--\", color=\"black\", label=\"order 4\")\n",
    "\n",
    "# plot_quantiles(ax_rk4, err_ref[\"rk4\"][\"dt\"], err_ref[\"rk4\"][\"err\"])\n",
    "plot_quantiles(ax_rk4, err_sch[\"rk4\"][\"dt\"], err_sch[\"rk4\"][\"err\"], **dvi_plt)\n",
    "plot_quantiles(ax_rk4, err_cmy[\"rk4\"][\"dt\"], err_cmy[\"rk4\"][\"err\"], **cmy_plt)\n",
    "plot_quantiles(ax_rk4, err_vf[\"rk4\"][\"dt\"], err_vf[\"rk4\"][\"err\"], **vf_plt)\n",
    "\n",
    "y_min, y_max = ax_dvi.get_ylim()\n",
    "ax_dvi.set_ylim(y_min, 3.5 * y_max)\n",
    "\n",
    "ax_dvi.set_xlabel(\"$h$\")\n",
    "ax_rk4.set_xlabel(\"$h$\")\n",
    "ax_rk4.set_ylabel(\"abs. err. with RK4\")\n",
    "ax_dvi.set_ylabel(\"abs. err. with DVI\")\n",
    "\n",
    "ax_dvi.legend(ncols=2)\n",
    "ax_rk4.legend(loc=\"lower right\", ncols=2)\n",
    "\n",
    "fig.tight_layout(pad=0.2, w_pad=1.2)\n",
    "\n",
    "fname = os.path.join(\"figures\", \"num_err.pdf\")\n",
    "fig.savefig(fname, bbox_inches=\"tight\")"
   ]
  }
 ],
 "metadata": {
  "kernelspec": {
   "display_name": "symplearn",
   "language": "python",
   "name": "python3"
  },
  "language_info": {
   "codemirror_mode": {
    "name": "ipython",
    "version": 3
   },
   "file_extension": ".py",
   "mimetype": "text/x-python",
   "name": "python",
   "nbconvert_exporter": "python",
   "pygments_lexer": "ipython3",
   "version": "3.10.12"
  }
 },
 "nbformat": 4,
 "nbformat_minor": 5
}
