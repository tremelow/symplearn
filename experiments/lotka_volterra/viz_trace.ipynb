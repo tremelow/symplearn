{
 "cells": [
  {
   "cell_type": "code",
   "execution_count": null,
   "metadata": {},
   "outputs": [],
   "source": [
    "import os\n",
    "import torch\n",
    "\n",
    "import matplotlib.pyplot as plt\n",
    "\n",
    "path_reg = os.path.join(\"nn\", \"vf_reg_trace.pt\")\n",
    "vf_reg = torch.load(path_reg, weights_only=True)\n",
    "path_no_reg = os.path.join(\"nn\", \"vf_no_reg_trace.pt\")\n",
    "vf_no_reg = torch.load(path_no_reg, weights_only=True)\n",
    "path_dvi = os.path.join(\"nn\", \"dvi_trace.pt\")\n",
    "dvi = torch.load(path_dvi, weights_only=True)"
   ]
  },
  {
   "cell_type": "code",
   "execution_count": null,
   "metadata": {},
   "outputs": [],
   "source": [
    "SMALL_SIZE = 7\n",
    "MEDIUM_SIZE = 8\n",
    "BIGGER_SIZE = 9\n",
    "\n",
    "plt.rc(\"axes\", labelsize=MEDIUM_SIZE)  # fontsize of the x and y labels\n",
    "plt.rc(\"xtick\", labelsize=SMALL_SIZE)  # fontsize of the tick labels\n",
    "plt.rc(\"ytick\", labelsize=SMALL_SIZE)  # fontsize of the tick labels\n",
    "plt.rc(\"legend\", fontsize=MEDIUM_SIZE)  # legend fontsize\n",
    "\n",
    "plt.rc(\"lines\", lw=1.2)"
   ]
  },
  {
   "cell_type": "code",
   "execution_count": null,
   "metadata": {},
   "outputs": [],
   "source": [
    "fig, ax = plt.subplots(figsize=(3.8, 2.7))\n",
    "\n",
    "ax.plot(dvi[\"test\"][\"abs\"], label=\"sch. learning\", color=\"grey\")\n",
    "ax.plot(vf_reg[\"test\"][\"abs_dz\"], label=\"VF learning with reg.\", color=\"tab:blue\")\n",
    "ax.plot(vf_no_reg[\"test\"][\"abs_dz\"], label=\"VF learning without reg.\", color=\"tab:red\")\n",
    "\n",
    "ax.set_xlabel(\"epochs\")\n",
    "ax.set_ylabel(\"error term in loss\")\n",
    "ax.set_yscale(\"log\")\n",
    "ax.legend()\n",
    "fig.tight_layout(pad=0.2)\n",
    "\n",
    "fname = os.path.join(\"figures\", \"loss_trace.pdf\")\n",
    "fig.savefig(fname)"
   ]
  },
  {
   "cell_type": "code",
   "execution_count": null,
   "metadata": {},
   "outputs": [],
   "source": [
    "fig, ax = plt.subplots(figsize=(3.8, 2.7))\n",
    "\n",
    "# ax.plot(dvi[\"train\"][\"tot\"], label=\"sch. learning\", color=\"grey\", lw=1)\n",
    "ax.plot(vf_reg[\"test\"][\"abs_reg\"], label=\"VF learning with reg.\", color=\"tab:blue\")\n",
    "ax.plot(vf_no_reg[\"test\"][\"abs_reg\"], label=\"VF learning without reg.\", color=\"tab:red\")\n",
    "\n",
    "ax.set_xlabel(\"epochs\")\n",
    "ax.set_ylabel(\"norm of reg. term\")\n",
    "\n",
    "ax.set_ylim(5e0, 4.5e3)\n",
    "ax.set_yscale(\"log\")\n",
    "ax.legend(loc=\"right\")\n",
    "\n",
    "fig.tight_layout(pad=0.2)\n",
    "\n",
    "fname = os.path.join(\"figures\", \"reg_trace.pdf\")\n",
    "fig.savefig(fname)"
   ]
  }
 ],
 "metadata": {
  "kernelspec": {
   "display_name": "symplearn",
   "language": "python",
   "name": "python3"
  },
  "language_info": {
   "codemirror_mode": {
    "name": "ipython",
    "version": 3
   },
   "file_extension": ".py",
   "mimetype": "text/x-python",
   "name": "python",
   "nbconvert_exporter": "python",
   "pygments_lexer": "ipython3",
   "version": "3.10.12"
  }
 },
 "nbformat": 4,
 "nbformat_minor": 2
}
