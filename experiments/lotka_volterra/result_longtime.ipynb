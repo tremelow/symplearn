{
 "cells": [
  {
   "cell_type": "code",
   "execution_count": null,
   "metadata": {},
   "outputs": [],
   "source": [
    "%load_ext autoreload\n",
    "%autoreload 2"
   ]
  },
  {
   "cell_type": "code",
   "execution_count": null,
   "metadata": {},
   "outputs": [],
   "source": [
    "import os\n",
    "\n",
    "import numpy as np\n",
    "import matplotlib as mpl\n",
    "import matplotlib.pyplot as plt\n",
    "\n",
    "import torch\n",
    "\n",
    "from symplearn.datasets import VectorFieldDataset, SnapshotDataset\n",
    "from symplearn.numerics import QuasiExactSimulation, EulerDVISimulation, RK4Simulation\n",
    "\n",
    "from models import LotkaVolterra\n",
    "from utils import get_reduced_val_data, find_index_period, HandlerColormap, init_env\n",
    "\n",
    "pb, models = init_env()"
   ]
  },
  {
   "cell_type": "code",
   "execution_count": null,
   "metadata": {},
   "outputs": [],
   "source": [
    "z_train = VectorFieldDataset(\"train\").z\n",
    "z_test = VectorFieldDataset(\"test\").z\n",
    "z_val = VectorFieldDataset(\"val\").z\n",
    "\n",
    "t0, z0, dt = get_reduced_val_data()\n",
    "x0, y0 = z0.tensor_split(2, -1)"
   ]
  },
  {
   "cell_type": "markdown",
   "metadata": {},
   "source": [
    "## Long-time simulations"
   ]
  },
  {
   "cell_type": "code",
   "execution_count": null,
   "metadata": {},
   "outputs": [],
   "source": [
    "def simul_long_time(dir, model, dt=dt, z0=z0):\n",
    "    sim_schemes = {\n",
    "        \"ex\": QuasiExactSimulation,\n",
    "        \"dvi\": EulerDVISimulation,\n",
    "        \"rk4\": RK4Simulation,\n",
    "    }\n",
    "    dt = {\"ex\": dt * 0.2, \"dvi\": dt, \"rk4\": dt}\n",
    "    nt = {\"ex\": 10_000, \"dvi\": 100_000, \"rk4\": 250_000}\n",
    "    sol = {k: {} for k in sim_schemes.keys()}\n",
    "    fname = lambda name: os.path.join(\"simul\", \"longtime\", dir, f\"{name}.pt\")\n",
    "\n",
    "    for sim in sim_schemes.keys():\n",
    "        tname, zname = fname(f\"t_{sim}\"), fname(f\"z_{sim}\")\n",
    "        if os.path.exists(tname) and os.path.exists(zname):\n",
    "            sol[sim][\"t\"] = torch.load(tname, weights_only=True)\n",
    "            sol[sim][\"z\"] = torch.load(zname, weights_only=True)\n",
    "        else:\n",
    "            sol[sim] = {\"t\": torch.zeros(len(z0), 1), \"z\": z0[:, None, :]}\n",
    "\n",
    "        if sol[sim][\"t\"].shape[1] < nt[sim] + 1:\n",
    "            nt_sim = nt[sim] + 1 - sol[sim][\"t\"].shape[1]\n",
    "            sim_sch = sim_schemes[sim]\n",
    "            t_init, z_init = sol[sim][\"t\"][:, -1], sol[sim][\"z\"][:, -1]\n",
    "            t_sim, z_sim = sim_sch(model, dt[sim]).simulate(z_init, nt_sim, t0=t_init)\n",
    "\n",
    "            t_sim, z_sim = t_sim.detach(), z_sim.detach()\n",
    "            sol[sim][\"t\"] = torch.concat((sol[sim][\"t\"][:, :-1], t_sim), axis=1)\n",
    "            sol[sim][\"z\"] = torch.concat((sol[sim][\"z\"][:, :-1], z_sim), axis=1)\n",
    "\n",
    "            torch.save(sol[sim][\"t\"], tname)\n",
    "            torch.save(sol[sim][\"z\"], zname)\n",
    "\n",
    "    sol[sim][\"t\"] = sol[sim][\"t\"].cpu().numpy()\n",
    "    sol[sim][\"z\"] = sol[sim][\"z\"].cpu().numpy()\n",
    "    return sol"
   ]
  },
  {
   "cell_type": "markdown",
   "metadata": {},
   "source": [
    "#### Perform simulations"
   ]
  },
  {
   "cell_type": "code",
   "execution_count": null,
   "metadata": {},
   "outputs": [],
   "source": [
    "sol_ref = simul_long_time(\"ref\", models[\"ref\"])"
   ]
  },
  {
   "cell_type": "code",
   "execution_count": null,
   "metadata": {},
   "outputs": [],
   "source": [
    "sol_vf = simul_long_time(\"vf\", models[\"vf_reg\"])"
   ]
  },
  {
   "cell_type": "code",
   "execution_count": null,
   "metadata": {},
   "outputs": [],
   "source": [
    "sol_cmy = simul_long_time(\"cmy\", models[\"vf_no_reg\"])"
   ]
  },
  {
   "cell_type": "code",
   "execution_count": null,
   "metadata": {},
   "outputs": [],
   "source": [
    "sol_sch = simul_long_time(\"sch\", models[\"dvi\"])"
   ]
  },
  {
   "cell_type": "code",
   "execution_count": null,
   "metadata": {},
   "outputs": [],
   "source": [
    "sol_ref[\"dvi\"][\"t\"].shape, sol_ref[\"rk4\"][\"t\"].shape\n",
    "sol_sch[\"dvi\"][\"t\"].shape, sol_sch[\"rk4\"][\"t\"].shape\n",
    "sol_vf[\"dvi\"][\"t\"].shape, sol_vf[\"rk4\"][\"t\"].shape\n",
    "sol_cmy[\"dvi\"][\"t\"].shape, sol_cmy[\"rk4\"][\"t\"].shape"
   ]
  },
  {
   "cell_type": "code",
   "execution_count": null,
   "metadata": {},
   "outputs": [],
   "source": [
    "# colorblind friendly colormap (to the best of my ability)\n",
    "cmap0 = mpl.colormaps[\"Blues\"]\n",
    "cmap1 = mpl.colormaps[\"Greens\"]\n",
    "cmap2 = mpl.colormaps[\"Oranges\"]\n",
    "cmap3 = mpl.colormaps[\"Purples\"]\n",
    "\n",
    "cmaps = [cmap0, cmap1, cmap2, cmap3]\n",
    "colors = [cmap0(0.9), cmap1(0.75), cmap2(0.6), cmap3(0.6)]\n",
    "colors_dark = [cm(0.9) for cm in cmaps]\n",
    "colors_light = [cm(0.6) for cm in cmaps]"
   ]
  },
  {
   "cell_type": "code",
   "execution_count": null,
   "metadata": {},
   "outputs": [],
   "source": [
    "fig_init_cond, ax_init_cond = plt.subplots(figsize=(5, 3))\n",
    "\n",
    "ax_init_cond.scatter(*z_val.T, c=\"grey\", s=3, label=\"val. data\")\n",
    "ax_init_cond.scatter([], [], c=\"black\", marker=\"D\", label=\"select.\", s=20)\n",
    "\n",
    "ax_init_cond.scatter(*z0.T, marker=\"D\", s=20, c=colors_dark, label=None)\n",
    "\n",
    "ax_init_cond.set(xlabel=\"$x$\", ylabel=\"$y$\")\n",
    "ax_init_cond.legend()\n",
    "\n",
    "fig_init_cond.tight_layout(pad=0.2)"
   ]
  },
  {
   "cell_type": "code",
   "execution_count": null,
   "metadata": {},
   "outputs": [],
   "source": [
    "def plot_phasespace(ax, sol, label=None, title=None, step=1, end=None, **kwargs):\n",
    "    for k, cmapk in enumerate(cmaps):\n",
    "        zk_ref_ex = sol_ref[\"ex\"][\"z\"][k]\n",
    "        nt_ref_ex = find_index_period(zk_ref_ex) + 1\n",
    "        ref_plt = dict(color=\"grey\", lw=1.5, alpha=0.5)\n",
    "        ax.plot(*zk_ref_ex[:nt_ref_ex].T, label=None, **ref_plt)\n",
    "\n",
    "        tk, zk = sol[\"t\"][k, :end:step], sol[\"z\"][k, :end:step]\n",
    "        tk = (tk - tk.min()) / (tk.max() - tk.min())\n",
    "        ck = cmapk(0.2 + 0.6 * tk)\n",
    "        ax.scatter(*zk.T, c=ck, s=1, label=None)\n",
    "\n",
    "    if label is not None:\n",
    "        ax.plot([], [], color=\"black\", label=label, lw=1.5)\n",
    "        ax.plot([], [], label=\"ref.\", **ref_plt)\n",
    "        handles, labels = ax.get_legend_handles_labels()\n",
    "        ax.legend(\n",
    "            title=title,\n",
    "            handles=handles,\n",
    "            labels=labels,\n",
    "            handler_map={handles[-2]: HandlerColormap(mpl.colormaps[\"Greys\"])},\n",
    "        )\n",
    "\n",
    "\n",
    "def plot_long_time(sol, labels=True, title=None, step_rk4=73, step_dvi=73):\n",
    "    fig, (ax_rk4, ax_dvi) = plt.subplots(1, 2, figsize=(7.1, 2.7))\n",
    "\n",
    "    plot_phasespace(ax_rk4, sol[\"rk4\"], label=\"RK4\", step=step_rk4, title=title)\n",
    "    plot_phasespace(ax_dvi, sol[\"dvi\"], label=\"DVI\", step=step_dvi, title=title)\n",
    "\n",
    "    if labels:\n",
    "        ax_rk4.set(xlabel=\"$x$\", ylabel=\"$y$\")\n",
    "        ax_dvi.set(xlabel=\"$x$\", ylabel=\"$y$\")\n",
    "        fig.tight_layout(pad=0.2, w_pad=1.0)\n",
    "    return fig"
   ]
  },
  {
   "cell_type": "code",
   "execution_count": null,
   "metadata": {},
   "outputs": [],
   "source": [
    "fig_ref = plot_long_time(sol_ref, title=\"ref. model\")\n",
    "\n",
    "for ax in fig_ref.get_axes():\n",
    "    handles, labels = ax.get_legend_handles_labels()\n",
    "    labels[1] = \"exact\"\n",
    "    ax.legend(handles, labels, title=\"ref. model\")\n",
    "\n",
    "fname = os.path.join(\"figures\", \"longtime_ref\")\n",
    "fig_ref.savefig(fname + \".pdf\", bbox_inches=\"tight\")"
   ]
  },
  {
   "cell_type": "code",
   "execution_count": null,
   "metadata": {},
   "outputs": [],
   "source": [
    "fig_vf = plot_long_time(sol_vf, title=\"VF with reg.\")\n",
    "\n",
    "fname = os.path.join(\"figures\", \"longtime_vf\")\n",
    "fig_vf.savefig(fname + \".pdf\", bbox_inches=\"tight\")"
   ]
  },
  {
   "cell_type": "code",
   "execution_count": null,
   "metadata": {},
   "outputs": [],
   "source": [
    "sol_cmy_dvi = {k: sol_cmy[\"dvi\"][k] for k in [\"t\", \"z\"]}\n",
    "sol_cmy[\"dvi\"][\"t\"] = sol_cmy[\"dvi\"][\"t\"][:, :200]\n",
    "sol_cmy[\"dvi\"][\"z\"] = sol_cmy[\"dvi\"][\"z\"][:, :200]\n",
    "\n",
    "fig_cmy = plot_long_time(sol_cmy, labels=False, step_dvi=1, title=\"VF no reg.\")\n",
    "\n",
    "ax1, ax2 = fig_cmy.axes\n",
    "ax1.set(xlabel=\"$x$\", ylabel=\"$y$\")\n",
    "\n",
    "bounds = (0.03, 0.25, 0.8, 0.71)\n",
    "xlim, ylim = ax1.get_xlim(), ax1.get_ylim()\n",
    "x_range, y_range = xlim[1] - xlim[0], ylim[1] - ylim[0]\n",
    "xlim = (xlim[0] - 0.04 * x_range, xlim[1] + 0.15 * x_range)\n",
    "ylim = (ylim[0] - 0.05 * y_range, ylim[1] + 0.1 * y_range)\n",
    "axins = ax2.inset_axes(bounds, xlim=xlim, ylim=ylim, xticks=xlim, yticks=ylim)\n",
    "axins.patch.set_alpha(0.8)\n",
    "axins.set(xticks=[], xticklabels=[], xlabel=None)\n",
    "axins.set(yticks=[], yticklabels=[], ylabel=None)\n",
    "\n",
    "# xmin, xmax = ax2.get_xlim()\n",
    "# xrange = xmax - xmin\n",
    "# ax2.set_xlim(xmin - 0.5 * xrange, xmax + 6.0 * xrange)\n",
    "# ymin, ymax = ax2.get_ylim()\n",
    "# yrange = ymax - ymin\n",
    "# ax2.set_ylim(ymin - 0.5 * yrange, ymax + 6.0 * yrange)\n",
    "\n",
    "ax2.set(xlabel=\"$x$\", ylabel=\"$y$\")\n",
    "\n",
    "plot_phasespace(axins, sol_cmy[\"dvi\"], step=1)\n",
    "ax2.indicate_inset_zoom(axins, edgecolor=\"black\")\n",
    "\n",
    "fig_cmy.tight_layout(pad=0.2, w_pad=1.0)\n",
    "\n",
    "fname = os.path.join(\"figures\", \"longtime_cmy\")\n",
    "fig_cmy.savefig(fname + \".pdf\", bbox_inches=\"tight\")\n",
    "\n",
    "sol_cmy[\"dvi\"][\"t\"] = sol_cmy_dvi[\"t\"]\n",
    "sol_cmy[\"dvi\"][\"z\"] = sol_cmy_dvi[\"z\"]"
   ]
  },
  {
   "cell_type": "code",
   "execution_count": null,
   "metadata": {},
   "outputs": [],
   "source": [
    "sol_sch_rk4 = {k: sol_sch[\"rk4\"][k] for k in [\"t\", \"z\"]}\n",
    "sol_sch[\"rk4\"][\"t\"] = sol_sch[\"rk4\"][\"t\"][:, :100_000]\n",
    "sol_sch[\"rk4\"][\"z\"] = sol_sch[\"rk4\"][\"z\"][:, :100_000]\n",
    "\n",
    "fig_sch = plot_long_time(sol_sch, step_rk4=31, step_dvi=31, title=\"sch. learning\")\n",
    "\n",
    "sol_sch[\"rk4\"][\"t\"] = sol_sch_rk4[\"t\"]\n",
    "sol_sch[\"rk4\"][\"z\"] = sol_sch_rk4[\"z\"]\n",
    "\n",
    "fname = os.path.join(\"figures\", \"longtime_sch\")\n",
    "fig_sch.savefig(fname + \".pdf\", bbox_inches=\"tight\")"
   ]
  },
  {
   "cell_type": "markdown",
   "metadata": {},
   "source": [
    "#### Exact ($h \\to 0^+$) solutions"
   ]
  },
  {
   "cell_type": "code",
   "execution_count": null,
   "metadata": {},
   "outputs": [],
   "source": [
    "def plot_ex(ax, sol, label=\"neural\", title=None, ncols=1):\n",
    "    ref_plt = dict(color=\"grey\", lw=1.5, alpha=0.5)\n",
    "\n",
    "    for k, ck_ex in enumerate(colors_dark):\n",
    "        zk_ref_ex = sol_ref[\"ex\"][\"z\"][k]\n",
    "        nt_ref_ex = find_index_period(zk_ref_ex) + 1\n",
    "        ax.plot(*zk_ref_ex[:nt_ref_ex].T, label=None, **ref_plt)\n",
    "\n",
    "        zk_ex = sol[\"ex\"][\"z\"][k]\n",
    "        nt_ex = find_index_period(zk_ex) + 2\n",
    "        ax.plot(*zk_ex[:nt_ex].T, c=ck_ex, ls=\"dashed\", label=None)\n",
    "\n",
    "    ymin, ymax = ax.get_ylim()\n",
    "    ax.set_ylim(ymin, ymax + 0.14 * (ymax - ymin))\n",
    "    xmin, xmax = ax.get_xlim()\n",
    "    ax.set_xlim(xmin, xmax + 0.0 * (xmax - xmin))\n",
    "\n",
    "    ax.plot([], [], label=\"ref.\", **ref_plt)\n",
    "    ax.plot([], [], color=\"black\", label=label, ls=\"dashed\", lw=1.5)\n",
    "    ax.set(xlabel=\"$x$\", ylabel=\"$y$\")\n",
    "    ax.legend(title=title, ncols=ncols, columnspacing=1.0)"
   ]
  },
  {
   "cell_type": "code",
   "execution_count": null,
   "metadata": {},
   "outputs": [],
   "source": [
    "fig_ex, (ax1, ax2, ax3) = plt.subplots(1, 3, figsize=(7.1, 2.5))\n",
    "# plot_ex(ax1, sol_vf, title=\"VFL with reg.\")\n",
    "# plot_ex(ax2, sol_cmy, title=\"VFL no reg.\")\n",
    "# plot_ex(ax3, sol_sch, title=\"sch. learning\")\n",
    "plot_ex(ax1, sol_vf, label=\"VFL with reg.\", ncols=2)\n",
    "plot_ex(ax2, sol_cmy, label=\"VFL no reg.\", ncols=2)\n",
    "plot_ex(ax3, sol_sch, label=\"sch. learning\", ncols=2)\n",
    "\n",
    "fig_ex.tight_layout(pad=0.2, w_pad=0.8)\n",
    "\n",
    "fname = os.path.join(\"figures\", \"nn_ex\")\n",
    "fig_ex.savefig(fname + \".pdf\", bbox_inches=\"tight\")"
   ]
  }
 ],
 "metadata": {
  "kernelspec": {
   "display_name": "symplearn",
   "language": "python",
   "name": "python3"
  },
  "language_info": {
   "codemirror_mode": {
    "name": "ipython",
    "version": 3
   },
   "file_extension": ".py",
   "mimetype": "text/x-python",
   "name": "python",
   "nbconvert_exporter": "python",
   "pygments_lexer": "ipython3",
   "version": "3.10.12"
  }
 },
 "nbformat": 4,
 "nbformat_minor": 2
}
