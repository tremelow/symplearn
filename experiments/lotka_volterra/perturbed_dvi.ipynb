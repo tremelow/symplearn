{
 "cells": [
  {
   "cell_type": "code",
   "execution_count": null,
   "metadata": {},
   "outputs": [],
   "source": [
    "import os\n",
    "\n",
    "import numpy as np\n",
    "import matplotlib as mpl\n",
    "import matplotlib.pyplot as plt\n",
    "\n",
    "import torch\n",
    "\n",
    "torch.set_default_dtype(torch.float64)\n",
    "\n",
    "from symplearn.numerics import EulerDVISimulation, QuasiExactSimulation\n",
    "\n",
    "from models import LotkaVolterra\n",
    "from utils import load_models, find_index_period"
   ]
  },
  {
   "cell_type": "code",
   "execution_count": null,
   "metadata": {},
   "outputs": [],
   "source": [
    "class PerturbedLotkaVolterra(LotkaVolterra):\n",
    "    def __init__(self, *args, **kwargs):\n",
    "        super().__init__(*args, **kwargs)\n",
    "        self.w = 2.0\n",
    "\n",
    "    def oneform(self, x, y):\n",
    "        q = super().oneform(x, y)\n",
    "        return q + torch.cos(self.w * x) / self.w\n",
    "\n",
    "    def euler_lagrange_maps(self, x, y, t):\n",
    "        (dx_q, dy_q), (dx_h, dy_h) = super().euler_lagrange_maps(x, y, t)\n",
    "        dx_q -= torch.sin(self.w * x).unsqueeze(-1)\n",
    "        return (dx_q, dy_q), (dx_h, dy_h)\n",
    "\n",
    "\n",
    "model_ref = LotkaVolterra()\n",
    "model_pert = PerturbedLotkaVolterra()\n",
    "model_nn = load_models()[\"vf_no_reg\"]\n",
    "model_reg = load_models()[\"vf_reg\"]"
   ]
  },
  {
   "cell_type": "code",
   "execution_count": null,
   "metadata": {},
   "outputs": [],
   "source": [
    "z0_default = torch.tensor([[4.0, 3.0]])\n",
    "# z0_default = torch.tensor([[1.0, 4.0]])\n",
    "\n",
    "\n",
    "def compute_sol(model, dt, tf=8.0, z0=z0_default, scheme=EulerDVISimulation):\n",
    "    sim = scheme(model, dt)\n",
    "    nt = int(np.ceil(tf / dt))\n",
    "    t, z = sim.simulate(z0, nt)\n",
    "    if z.shape[0] == 1:\n",
    "        t, z = t[0], z[0]\n",
    "\n",
    "    return t, z"
   ]
  },
  {
   "cell_type": "code",
   "execution_count": null,
   "metadata": {},
   "outputs": [],
   "source": [
    "SMALL_SIZE = 7\n",
    "MEDIUM_SIZE = 8\n",
    "BIGGER_SIZE = 9\n",
    "\n",
    "plt.rc(\"axes\", labelsize=MEDIUM_SIZE)  # fontsize of the x and y labels\n",
    "plt.rc(\"xtick\", labelsize=SMALL_SIZE)  # fontsize of the tick labels\n",
    "plt.rc(\"ytick\", labelsize=SMALL_SIZE)  # fontsize of the tick labels\n",
    "plt.rc(\"legend\", fontsize=BIGGER_SIZE, title_fontsize=BIGGER_SIZE)  # legend fontsize\n",
    "\n",
    "plt.rc(\"figure\", figsize=(3,3))\n",
    "\n",
    "ref_params = dict(label=\"reference\", color=\"gray\", linestyle=\"solid\", linewidth=1.5)\n",
    "ex_params = dict(\n",
    "    label=\"exact\", color=\"black\", linestyle=\"dotted\", linewidth=3, zorder=2.01\n",
    ")\n",
    "\n",
    "col_ref = mpl.colormaps[\"plasma\"](0.85)\n",
    "col_pert = mpl.colormaps[\"plasma\"](0.65)\n",
    "col_nn = mpl.colormaps[\"plasma\"](0.4)\n",
    "col_reg = mpl.colormaps[\"plasma\"](0.12)\n",
    "\n",
    "\n",
    "def plot_with_dt(ax, z, dt, **kwargs):\n",
    "    lab_dt = \"$\\\\Delta t = 2^{\" + str(int(np.log2(dt))) + \"}$\"\n",
    "    nf = find_index_period(z) + 2\n",
    "    ax.plot(z[:nf, 0], z[:nf, 1], label=lab_dt, linewidth=2.5, **kwargs)"
   ]
  },
  {
   "cell_type": "code",
   "execution_count": null,
   "metadata": {},
   "outputs": [],
   "source": [
    "dt_ex = 1e-2\n",
    "t_ex, z_ex = compute_sol(model_ref, dt_ex)\n",
    "nf_ex = find_index_period(z_ex) + 2\n",
    "\n",
    "t_ex, z_ex = t_ex[:nf_ex], z_ex[:nf_ex]"
   ]
  },
  {
   "cell_type": "code",
   "execution_count": null,
   "metadata": {},
   "outputs": [],
   "source": [
    "## Verify that the perturbed model has a larger regularization term than the reference model\n",
    "\n",
    "from symplearn.datasets import VectorFieldDataset\n",
    "from symplearn.training.losses import VectorFieldLoss\n",
    "\n",
    "data_vf = VectorFieldDataset(\"val\")\n",
    "z, t, dt_z = data_vf[:]\n",
    "\n",
    "reg_ref = VectorFieldLoss(model_ref)(z, t, dt_z)[1][\"abs_reg\"]\n",
    "reg_pert = VectorFieldLoss(model_pert)(z, t, dt_z)[1][\"abs_reg\"]\n",
    "reg_nn = VectorFieldLoss(model_nn)(z, t, dt_z)[1][\"abs_reg\"]\n",
    "\n",
    "reg_ref, reg_pert, reg_nn"
   ]
  },
  {
   "cell_type": "markdown",
   "metadata": {},
   "source": [
    "### Reference model"
   ]
  },
  {
   "cell_type": "code",
   "execution_count": null,
   "metadata": {},
   "outputs": [],
   "source": [
    "dt_large_ref = 2.0 ** -3\n",
    "dt_small_ref = 2.0 ** -4\n",
    "\n",
    "t_large_ref, z_large_ref = compute_sol(model_ref, dt_large_ref)\n",
    "t_small_ref, z_small_ref = compute_sol(model_ref, dt_small_ref)"
   ]
  },
  {
   "cell_type": "code",
   "execution_count": null,
   "metadata": {},
   "outputs": [],
   "source": [
    "fig, ax = plt.subplots()\n",
    "\n",
    "plot_with_dt(ax, z_large_ref, dt_large_ref, color=col_ref)\n",
    "plot_with_dt(ax, z_small_ref, dt_small_ref, color=col_ref, linestyle=\"dashed\")\n",
    "\n",
    "ax.plot(*z_ex.T, **ex_params)\n",
    "\n",
    "ax.legend(title=\"ref. $\\\\vartheta$\")\n",
    "ax.set_xlabel(\"$x$\")\n",
    "ax.set_ylabel(\"$y$\")\n",
    "\n",
    "fig.tight_layout()\n",
    "fig.savefig(os.path.join(\"figures\", \"perturbed\", \"dvi_ref.pdf\"))"
   ]
  },
  {
   "cell_type": "markdown",
   "metadata": {},
   "source": [
    "### Perturbed model"
   ]
  },
  {
   "cell_type": "code",
   "execution_count": null,
   "metadata": {},
   "outputs": [],
   "source": [
    "dt_large_pert = 2.0 ** -7\n",
    "dt_small_pert = 2.0 ** -8\n",
    "\n",
    "t_large_pert, z_large_pert = compute_sol(model_pert, dt_large_pert)\n",
    "t_small_pert, z_small_pert = compute_sol(model_pert, dt_small_pert)\n",
    "t_ex_pert, z_ex_pert = compute_sol(model_pert, dt_ex, scheme=QuasiExactSimulation)"
   ]
  },
  {
   "cell_type": "code",
   "execution_count": null,
   "metadata": {},
   "outputs": [],
   "source": [
    "fig, ax = plt.subplots()\n",
    "\n",
    "plot_with_dt(ax, z_large_pert, dt_large_pert, color=col_pert)\n",
    "plot_with_dt(ax, z_small_pert, dt_small_pert, color=col_pert, linestyle=\"dashed\")\n",
    "\n",
    "nf_ex_pert = find_index_period(z_ex_pert) + 2\n",
    "ax.plot(*z_ex_pert[:nf_ex_pert].T, **ex_params)\n",
    "# ax.plot(*z_ex.T, **ref_params)\n",
    "\n",
    "ax.legend(title=\"pert. $\\\\vartheta$\")\n",
    "ax.set_xlabel(\"$x$\")\n",
    "ax.set_ylabel(\"$y$\")\n",
    "\n",
    "fig.tight_layout()\n",
    "fig.savefig(os.path.join(\"figures\", \"perturbed\", \"dvi_pert.pdf\"))"
   ]
  },
  {
   "cell_type": "markdown",
   "metadata": {},
   "source": [
    "### Neural network model"
   ]
  },
  {
   "cell_type": "code",
   "execution_count": null,
   "metadata": {},
   "outputs": [],
   "source": [
    "model_nn = load_models()[\"vf_no_reg\"]\n",
    "\n",
    "dt_large_nn = 2.0 ** -4\n",
    "dt_small_nn = 2.0 ** -5\n",
    "\n",
    "t_large_nn, z_large_nn = compute_sol(model_nn, dt_large_nn)\n",
    "t_small_nn, z_small_nn = compute_sol(model_nn, dt_small_nn)\n",
    "t_ex_nn, z_ex_nn = compute_sol(model_nn, dt_ex, scheme=QuasiExactSimulation)"
   ]
  },
  {
   "cell_type": "code",
   "execution_count": null,
   "metadata": {},
   "outputs": [],
   "source": [
    "fig, ax = plt.subplots()\n",
    "\n",
    "plot_with_dt(ax, z_large_nn, dt_large_nn, color=col_nn)\n",
    "plot_with_dt(ax, z_small_nn, dt_small_nn, color=col_nn, linestyle=\"dashed\")\n",
    "\n",
    "nf_ex_nn = -1 # find_index_period(z_ex_nn) + 2\n",
    "ax.plot(*z_ex_nn[:nf_ex_nn].T, **ex_params)\n",
    "# ax.plot(*z_ex.T, **ref_params)\n",
    "\n",
    "ax.legend(title=\"neural $\\\\vartheta$, $H$\")\n",
    "ax.set_xlabel(\"$x$\")\n",
    "ax.set_ylabel(\"$y$\")\n",
    "\n",
    "fig.tight_layout()\n",
    "fig.savefig(os.path.join(\"figures\", \"perturbed\", \"dvi_nn.pdf\"))"
   ]
  },
  {
   "cell_type": "code",
   "execution_count": null,
   "metadata": {},
   "outputs": [],
   "source": [
    "model_reg = load_models()[\"vf_reg\"]\n",
    "\n",
    "dt_large_reg = 2.0 ** -3\n",
    "dt_small_reg = 2.0 ** -4\n",
    "\n",
    "t_large_reg, z_large_reg = compute_sol(model_reg, dt_large_reg)\n",
    "t_small_reg, z_small_reg = compute_sol(model_reg, dt_small_reg)\n",
    "t_ex_reg, z_ex_reg = compute_sol(model_reg, dt_ex, scheme=QuasiExactSimulation)"
   ]
  },
  {
   "cell_type": "code",
   "execution_count": null,
   "metadata": {},
   "outputs": [],
   "source": [
    "fig, ax = plt.subplots()\n",
    "\n",
    "plot_with_dt(ax, z_large_reg, dt_large_reg, color=col_reg)\n",
    "plot_with_dt(ax, z_small_reg, dt_small_reg, color=col_reg, linestyle=\"dashed\")\n",
    "\n",
    "nf_ex_reg = -1 # find_index_period(z_ex_reg) + 2\n",
    "ax.plot(*z_ex_reg[:nf_ex_reg].T, **ex_params)\n",
    "# ax.plot(*z_ex.T, **ref_params)\n",
    "\n",
    "ax.legend(title=\"reg. neural $\\\\vartheta$, $H$\")\n",
    "ax.set_xlabel(\"$x$\")\n",
    "ax.set_ylabel(\"$y$\")\n",
    "\n",
    "fig.tight_layout()\n",
    "fig.savefig(os.path.join(\"figures\", \"perturbed\", \"dvi_reg.pdf\"))"
   ]
  },
  {
   "cell_type": "code",
   "execution_count": null,
   "metadata": {},
   "outputs": [],
   "source": [
    "fig, ax = plt.subplots(figsize=(4.3, 3.5))\n",
    "\n",
    "ref_col = mpl.colormaps[\"plasma\"](0.85)\n",
    "ax.plot([], [], color=\"none\", label=\"ref. model\")\n",
    "plot_with_dt(ax, z_large_ref, dt_large_ref, color=ref_col)\n",
    "plot_with_dt(ax, z_small_ref, dt_small_ref, color=ref_col, linestyle=\"dashed\")\n",
    "\n",
    "pert_col = mpl.colormaps[\"plasma\"](0.4)\n",
    "ax.plot([], [], color=\"none\", label=\"perturbed $\\\\vartheta$\")\n",
    "plot_with_dt(ax, z_large_pert, dt_large_pert, color=pert_col)\n",
    "plot_with_dt(ax, z_small_pert, dt_small_pert, color=pert_col, linestyle=\"dashed\")\n",
    "\n",
    "ax.plot(z_ex[:, 0], z_ex[:, 1], label=\"exact\", color=\"black\", linestyle=\"dotted\", linewidth=3)\n",
    "# ax.scatter(z0[0, 0], z0[0, 1], color=\"gray\", marker=\"o\", s=12, zorder=2.01, label=\"initial condition\")\n",
    "\n",
    "# ax.set_xlim(0.8, 6.5)\n",
    "# ax.set_ylim(0.5, 4.5)\n",
    "ax.tick_params(axis=\"both\", which=\"major\", labelsize=8)\n",
    "\n",
    "handles, labels = ax.get_legend_handles_labels()\n",
    "\n",
    "leg = ax.legend(\n",
    "    handles=handles[:6],\n",
    "    labels=labels[:6],\n",
    "    loc=\"lower left\",\n",
    "    bbox_to_anchor=(0.02, 0.05),\n",
    "    fontsize=10,\n",
    "    ncols=2,\n",
    ")\n",
    "\n",
    "item, label = leg.legend_handles[0], leg.texts[0]\n",
    "width = item.get_window_extent(fig.canvas.get_renderer()).width\n",
    "label.set_position((-width,0))\n",
    "\n",
    "item, label = leg.legend_handles[3], leg.texts[3]\n",
    "width = item.get_window_extent(fig.canvas.get_renderer()).width\n",
    "label.set_position((-width,0))\n",
    "\n",
    "fig.tight_layout()"
   ]
  }
 ],
 "metadata": {
  "kernelspec": {
   "display_name": "symplearn",
   "language": "python",
   "name": "python3"
  },
  "language_info": {
   "codemirror_mode": {
    "name": "ipython",
    "version": 3
   },
   "file_extension": ".py",
   "mimetype": "text/x-python",
   "name": "python",
   "nbconvert_exporter": "python",
   "pygments_lexer": "ipython3",
   "version": "3.10.12"
  }
 },
 "nbformat": 4,
 "nbformat_minor": 2
}
