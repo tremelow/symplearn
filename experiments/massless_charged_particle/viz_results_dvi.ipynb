{
 "cells": [
  {
   "cell_type": "code",
   "execution_count": null,
   "metadata": {},
   "outputs": [],
   "source": [
    "import os\n",
    "\n",
    "import numpy as np\n",
    "import matplotlib as mpl\n",
    "import matplotlib.pyplot as plt\n",
    "\n",
    "import torch\n",
    "\n",
    "from symplearn.datasets import VectorFieldDataset, SnapshotDataset\n",
    "from symplearn.numerics import QuasiExactSimulation, EulerDVISimulation, RK4Simulation\n",
    "\n",
    "from utils import get_reduced_val_data, load_models\n",
    "\n",
    "torch.set_default_dtype(torch.float64)\n",
    "torch.set_default_device(\"cpu\")\n",
    "\n",
    "_, z0, dt = get_reduced_val_data()\n",
    "# z0 = torch.tensor([[2.0, 4.0]])\n",
    "models = load_models()\n",
    "\n",
    "model = models[\"ref\"]\n",
    "t, z = {key: {} for key in models}, {key: {} for key in models}"
   ]
  },
  {
   "cell_type": "code",
   "execution_count": null,
   "metadata": {},
   "outputs": [],
   "source": [
    "from symplearn.training.norms import GramMSNorm, ScaledMSNorm\n",
    "from symplearn.training.losses import VectorFieldLoss\n",
    "\n",
    "data_vf = VectorFieldDataset(\"val\")\n",
    "z, t, dt_z = data_vf[:]\n",
    "\n",
    "reg_ref = torch.vmap(VectorFieldLoss(models[\"ref\"])._error_reg)(z, t, dt_z)[1]\n",
    "reg_vf_reg = torch.vmap(VectorFieldLoss(models[\"vf_reg\"])._error_reg)(z, t, dt_z)[1]\n",
    "reg_vf_no_reg = torch.vmap(VectorFieldLoss(models[\"vf_no_reg\"])._error_reg)(z, t, dt_z)[1]\n",
    "\n",
    "GramMSNorm()(reg_ref, dt_z), GramMSNorm()(reg_vf_reg, dt_z), GramMSNorm()(reg_vf_no_reg, dt_z)\n",
    "# ScaledMSNorm()(reg_ref, dt_z), ScaledMSNorm()(reg_vf_reg, dt_z), ScaledMSNorm()(reg_vf_no_reg, dt_z)"
   ]
  },
  {
   "cell_type": "code",
   "execution_count": null,
   "metadata": {},
   "outputs": [],
   "source": [
    "dt_ex = 1e-3\n",
    "sim_ex = QuasiExactSimulation(model, dt_ex)\n",
    "tf_ex = 130.5\n",
    "t_ex, z_ex = sim_ex.simulate(z0, int(tf_ex / dt_ex))\n",
    "x_ex, y_ex = z_ex[0, :, 0], z_ex[0, :, 1]"
   ]
  },
  {
   "cell_type": "code",
   "execution_count": null,
   "metadata": {},
   "outputs": [],
   "source": [
    "sim_ref = EulerDVISimulation(model, dt)\n",
    "# init_step = torch.vmap(RK4Simulation(model, dt).step)\n",
    "t_ref, z_ref = sim_ref.simulate(z0, 400)"
   ]
  },
  {
   "cell_type": "code",
   "execution_count": null,
   "metadata": {},
   "outputs": [],
   "source": [
    "SMALL_SIZE = 7\n",
    "MEDIUM_SIZE = 8\n",
    "BIGGER_SIZE = 9\n",
    "HUGE_SIZE = 11\n",
    "\n",
    "plt.rc(\"axes\", labelsize=MEDIUM_SIZE, titlesize=HUGE_SIZE)  # fontsize of the x and y labels\n",
    "plt.rc(\"xtick\", labelsize=SMALL_SIZE)  # fontsize of the tick labels\n",
    "plt.rc(\"ytick\", labelsize=SMALL_SIZE)  # fontsize of the tick labels\n",
    "plt.rc(\"legend\", fontsize=BIGGER_SIZE, title_fontsize=BIGGER_SIZE)  # legend fontsize\n",
    "plt.rc(\"figure\", figsize=(3.4, 2.9))\n",
    "\n",
    "# colorblind friendly colormap\n",
    "cmap0 = mpl.colormaps[\"Blues_r\"]\n",
    "c0a, c0b, c0c, c0d = cmap0([0.1, 0.4, 0.5, 0.6])\n",
    "cmap1 = mpl.colormaps[\"Oranges_r\"]\n",
    "c1a, c1b, c1c, c1d = cmap1([0.1, 0.4, 0.5, 0.6])\n",
    "cmap2 = mpl.colormaps[\"Greens_r\"]\n",
    "c2a, c2b, c2c, c2d = cmap2([0.1, 0.4, 0.5, 0.6])\n",
    "\n",
    "colors = np.array([c0a, c1b, c2c])"
   ]
  },
  {
   "cell_type": "code",
   "execution_count": null,
   "metadata": {},
   "outputs": [],
   "source": [
    "def plot_sol(zt, zt_ex=z_ex, title=None, labels=[\"DVI\", \"ref.\"], ms=7):\n",
    "    fig, ax = plt.subplots()\n",
    "    for k, zk in enumerate(zt):\n",
    "        ax.scatter(zk[:, 0], zk[:, 1], s=ms, color=colors[k])\n",
    "        ax.plot(z_ex[k, :, 0], z_ex[k, :, 1], lw=0.5, c=colors[k])\n",
    "    ax.scatter([], [], c=\"gray\", label=labels[0])\n",
    "    ax.plot([], [], c=\"gray\", label=labels[-1])\n",
    "    ax.legend(title=title)\n",
    "    ax.set_xlabel(\"$x$\")\n",
    "    ax.set_ylabel(\"$y$\")\n",
    "    fig.tight_layout(pad=0.3)\n",
    "    return fig"
   ]
  },
  {
   "cell_type": "code",
   "execution_count": null,
   "metadata": {},
   "outputs": [],
   "source": [
    "fig_ref = plot_sol(z_ref, title=\"ref. model\", labels=[\"DVI\", \"exact\"])\n",
    "fig_ref.savefig(os.path.join(\"figures\", \"ref_dvi.pdf\"))"
   ]
  },
  {
   "cell_type": "code",
   "execution_count": null,
   "metadata": {},
   "outputs": [],
   "source": [
    "sim_vf_reg = EulerDVISimulation(models[\"vf_reg\"], dt)\n",
    "init_step = torch.vmap(RK4Simulation(models[\"vf_reg\"], dt).step)\n",
    "t_vf_reg, zt_vf_reg = sim_vf_reg.simulate(z0, 500, init_step=init_step)"
   ]
  },
  {
   "cell_type": "code",
   "execution_count": null,
   "metadata": {},
   "outputs": [],
   "source": [
    "fig_vf_reg = plot_sol(zt_vf_reg, title=\"VF with reg.\")\n",
    "fig_vf_reg.savefig(os.path.join(\"figures\", \"vf_reg_dvi.pdf\"))"
   ]
  },
  {
   "cell_type": "code",
   "execution_count": null,
   "metadata": {},
   "outputs": [],
   "source": [
    "sim_vf_no_reg = EulerDVISimulation(models[\"vf_no_reg\"], dt)\n",
    "init_step = torch.vmap(RK4Simulation(models[\"vf_no_reg\"], dt).step)\n",
    "t_vf_no_reg, zt_vf_no_reg = sim_vf_no_reg.simulate(z0, 500, init_step=init_step)"
   ]
  },
  {
   "cell_type": "code",
   "execution_count": null,
   "metadata": {},
   "outputs": [],
   "source": [
    "fig_vf_no_reg = plot_sol(zt_vf_no_reg, title=\"VF no reg.\", ms=2)\n",
    "fig_vf_no_reg.savefig(os.path.join(\"figures\", \"vf_no_reg_dvi.pdf\"))"
   ]
  },
  {
   "cell_type": "code",
   "execution_count": null,
   "metadata": {},
   "outputs": [],
   "source": [
    "sim_dvi = EulerDVISimulation(models[\"dvi\"], dt)\n",
    "# init_step = torch.vmap(lambda z, t: model_step(z, t, dt))\n",
    "# t_dvi, zt_dvi = sim_dvi.simulate(z0, 200, init_step=init_step)\n",
    "t_dvi, zt_dvi = sim_dvi.simulate(z0, 500)\n",
    "# t_dvi, zt_dvi = sim_dvi.simulate(z0, 2000)\n",
    "\n",
    "# from symplearn.numerics.solver import NewtonRaphsonSolver\n",
    "\n",
    "# t_dvi, zt_dvi = sim_dvi.simulate(z0, 200, solver=NewtonRaphsonSolver(max_iters=0), init_step=init_step)"
   ]
  },
  {
   "cell_type": "code",
   "execution_count": null,
   "metadata": {},
   "outputs": [],
   "source": [
    "fig_sch = plot_sol(zt_dvi, title=\"sch. learning\")\n",
    "fig_sch.savefig(os.path.join(\"figures\", \"sch_dvi.pdf\"))"
   ]
  }
 ],
 "metadata": {
  "kernelspec": {
   "display_name": "symplearn",
   "language": "python",
   "name": "python3"
  },
  "language_info": {
   "codemirror_mode": {
    "name": "ipython",
    "version": 3
   },
   "file_extension": ".py",
   "mimetype": "text/x-python",
   "name": "python",
   "nbconvert_exporter": "python",
   "pygments_lexer": "ipython3",
   "version": "3.10.12"
  }
 },
 "nbformat": 4,
 "nbformat_minor": 2
}
